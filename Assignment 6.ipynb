{
 "cells": [
  {
   "cell_type": "code",
   "execution_count": 6,
   "metadata": {},
   "outputs": [
    {
     "name": "stdin",
     "output_type": "stream",
     "text": [
      "Enter your Percentage:  67\n"
     ]
    },
    {
     "name": "stdout",
     "output_type": "stream",
     "text": [
      "Grade C\n"
     ]
    }
   ],
   "source": [
    "#Ans1.\n",
    "Percentage = int(input(\"Enter your Percentage: \"))\n",
    "if Percentage > 90:\n",
    "                       print(\"Grade A\")\n",
    "elif  Percentage > 80:\n",
    "                       print(\"Grade B\")\n",
    "elif Percentage >60:\n",
    "                       print(\"Grade C\")\n",
    "else:\n",
    "                       print(\"Grade D\")"
   ]
  },
  {
   "cell_type": "code",
   "execution_count": 7,
   "metadata": {},
   "outputs": [
    {
     "name": "stdin",
     "output_type": "stream",
     "text": [
      "Enter the cost price in Rs:  40000\n"
     ]
    },
    {
     "name": "stdout",
     "output_type": "stream",
     "text": [
      "The road tax to be paid is 5%.\n"
     ]
    }
   ],
   "source": [
    "#Ans2.\n",
    "Cost_price= int(input(\"Enter the cost price in Rs: \"))\n",
    "if Cost_price > 100000:\n",
    "    print(\"The road tax to be paid is 15%.\")\n",
    "elif Cost_price > 50000:\n",
    "    print(\"The road tax to be paid is 10%. \")\n",
    "else:\n",
    "    print(\"The road tax to be paid is 5%.\")"
   ]
  },
  {
   "cell_type": "code",
   "execution_count": 9,
   "metadata": {},
   "outputs": [
    {
     "name": "stdin",
     "output_type": "stream",
     "text": [
      "Enter your city:  Agra\n"
     ]
    },
    {
     "name": "stdout",
     "output_type": "stream",
     "text": [
      "Monument:Taj Mahal\n"
     ]
    }
   ],
   "source": [
    "#Ans3.\n",
    "City=input(\"Enter your city: \")\n",
    "if City==\"Delhi\":\n",
    "    print(\"Monument:Red Fort\")\n",
    "elif City==\"Agra\":\n",
    "    print(\"Monument:Taj Mahal\")\n",
    "elif City==\"Jaipur\":\n",
    "    print(\"Monument:Jal Mahal\")"
   ]
  },
  {
   "cell_type": "code",
   "execution_count": 15,
   "metadata": {},
   "outputs": [
    {
     "name": "stdin",
     "output_type": "stream",
     "text": [
      "Enter the number:  1\n"
     ]
    }
   ],
   "source": [
    "#Ans4.\n",
    "n=int(input(\"Enter the number: \"))\n",
    "count=0\n",
    "while n>10:\n",
    "    n=n/3\n",
    "    count=count+1\n",
    "    print(\"The given number can be divided by 3\",count,\"times before it is less than or equal to 10.\")"
   ]
  },
  {
   "cell_type": "code",
   "execution_count": 21,
   "metadata": {},
   "outputs": [
    {
     "name": "stdout",
     "output_type": "stream",
     "text": [
      "n: 0\n",
      "n: 1\n",
      "n: 2\n",
      "n: 3\n",
      "n: 4\n"
     ]
    }
   ],
   "source": [
    "#Ans5.\n",
    "\"\"\"The while loop in Python is used when you want to repeatedly execute a block of code as long as a certain condition is true.\n",
    "It is particularly useful when we need to iterate until a specific condition is met, and the number of iterations is not predetermined.\"\"\"\n",
    "#Example:\n",
    "n = 0\n",
    "while n< 5:\n",
    "    print(\"n:\",n)\n",
    "    n += 1"
   ]
  },
  {
   "cell_type": "code",
   "execution_count": 1,
   "metadata": {},
   "outputs": [
    {
     "name": "stdout",
     "output_type": "stream",
     "text": [
      "*\n",
      "**\n",
      "***\n",
      "****\n",
      "*****\n"
     ]
    }
   ],
   "source": [
    "#Ans6.\n",
    "#Pattern 1:\n",
    "\"\"\"*\n",
    "**\n",
    "***\n",
    "****\n",
    "*****\"\"\"\n",
    "rows = 5\n",
    "i = 1\n",
    "\n",
    "while i <= rows:\n",
    "    j = 1\n",
    "    while j <= i:\n",
    "        print(\"*\", end=\"\")\n",
    "        j += 1\n",
    "    print()\n",
    "    i += 1"
   ]
  },
  {
   "cell_type": "code",
   "execution_count": 2,
   "metadata": {},
   "outputs": [
    {
     "name": "stdout",
     "output_type": "stream",
     "text": [
      "*****\n",
      "****\n",
      "***\n",
      "**\n",
      "*\n"
     ]
    }
   ],
   "source": [
    "#Ans6.\n",
    "#Pattern 2:\n",
    "\"\"\"*****\n",
    "****\n",
    "***\n",
    "**\n",
    "*\"\"\"\n",
    "rows = 5\n",
    "i = rows\n",
    "\n",
    "while i >= 1:\n",
    "    j = 1\n",
    "    while j <= i:\n",
    "        print(\"*\", end=\"\")\n",
    "        j += 1\n",
    "    print()\n",
    "    i -= 1"
   ]
  },
  {
   "cell_type": "code",
   "execution_count": 3,
   "metadata": {},
   "outputs": [
    {
     "name": "stdout",
     "output_type": "stream",
     "text": [
      "1\n",
      "12\n",
      "123\n",
      "1234\n",
      "12345\n"
     ]
    }
   ],
   "source": [
    "#Ans6.\n",
    "#Pattern 3:\n",
    "\"\"\"1\n",
    "12\n",
    "123\n",
    "1234\n",
    "12345\"\"\"\n",
    "rows = 5\n",
    "i = 1\n",
    "\n",
    "while i <= rows:\n",
    "    j = 1\n",
    "    while j <= i:\n",
    "        print(j, end=\"\")\n",
    "        j += 1\n",
    "    print()\n",
    "    i += 1"
   ]
  },
  {
   "cell_type": "code",
   "execution_count": 4,
   "metadata": {},
   "outputs": [
    {
     "name": "stdout",
     "output_type": "stream",
     "text": [
      "10\n",
      "9\n",
      "8\n",
      "7\n",
      "6\n",
      "5\n",
      "4\n",
      "3\n",
      "2\n",
      "1\n"
     ]
    }
   ],
   "source": [
    "#Ans7.\n",
    "n = 10\n",
    "\n",
    "while n >= 1:\n",
    "    print(n)\n",
    "    n =n-1"
   ]
  },
  {
   "cell_type": "code",
   "execution_count": null,
   "metadata": {},
   "outputs": [],
   "source": [
    "#Ans8.\n"
   ]
  }
 ],
 "metadata": {
  "kernelspec": {
   "display_name": "Python 3 (ipykernel)",
   "language": "python",
   "name": "python3"
  },
  "language_info": {
   "codemirror_mode": {
    "name": "ipython",
    "version": 3
   },
   "file_extension": ".py",
   "mimetype": "text/x-python",
   "name": "python",
   "nbconvert_exporter": "python",
   "pygments_lexer": "ipython3",
   "version": "3.10.8"
  }
 },
 "nbformat": 4,
 "nbformat_minor": 4
}
